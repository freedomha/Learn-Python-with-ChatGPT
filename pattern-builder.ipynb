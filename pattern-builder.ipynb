{
 "cells": [
  {
   "cell_type": "markdown",
   "metadata": {},
   "source": [
    "Builder Pattern\n",
    "Separates the construction of a complex object from its representation."
   ]
  },
  {
   "cell_type": "code",
   "execution_count": null,
   "metadata": {},
   "outputs": [],
   "source": [
    "class Car:\n",
    "    def __init__(self):\n",
    "        self.parts = []\n",
    "\n",
    "    def add_part(self, part):\n",
    "        self.parts.append(part)\n",
    "\n",
    "    def show(self):\n",
    "        print(\"Car parts:\", \", \".join(self.parts))\n",
    "\n",
    "class CarBuilder:\n",
    "    def __init__(self):\n",
    "        self.car = Car()\n",
    "\n",
    "    def add_engine(self):\n",
    "        self.car.add_part(\"Engine\")\n",
    "\n",
    "    def add_wheels(self):\n",
    "        self.car.add_part(\"Wheels\")\n",
    "\n",
    "    def get_car(self):\n",
    "        return self.car\n",
    "\n",
    "# Example usage:\n",
    "builder = CarBuilder()\n",
    "builder.add_engine()\n",
    "builder.add_wheels()\n",
    "car = builder.get_car()\n",
    "car.show()  # Output: Car parts: Engine, Wheels\n"
   ]
  }
 ],
 "metadata": {
  "kernelspec": {
   "display_name": ".venv",
   "language": "python",
   "name": "python3"
  },
  "language_info": {
   "name": "python",
   "version": "3.12.3"
  }
 },
 "nbformat": 4,
 "nbformat_minor": 2
}
