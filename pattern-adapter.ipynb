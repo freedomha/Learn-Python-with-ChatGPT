{
 "cells": [
  {
   "cell_type": "markdown",
   "metadata": {},
   "source": [
    "Adapter Pattern\n",
    "Allows incompatible interfaces to work together."
   ]
  },
  {
   "cell_type": "code",
   "execution_count": null,
   "metadata": {},
   "outputs": [],
   "source": [
    "class EuropeanSocket:\n",
    "    def voltage(self):\n",
    "        return \"220V\"\n",
    "\n",
    "class USASocketAdapter:\n",
    "    def __init__(self, european_socket):\n",
    "        self.european_socket = european_socket\n",
    "\n",
    "    def voltage(self):\n",
    "        return \"110V (converted from \" + self.european_socket.voltage() + \")\"\n",
    "\n",
    "# Example usage:\n",
    "euro_socket = EuropeanSocket()\n",
    "adapter = USASocketAdapter(euro_socket)\n",
    "print(adapter.voltage())  # Output: 110V (converted from 220V)\n"
   ]
  }
 ],
 "metadata": {
  "kernelspec": {
   "display_name": ".venv",
   "language": "python",
   "name": "python3"
  },
  "language_info": {
   "name": "python",
   "version": "3.12.3"
  }
 },
 "nbformat": 4,
 "nbformat_minor": 2
}
