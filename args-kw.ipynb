{
 "cells": [
  {
   "cell_type": "markdown",
   "metadata": {},
   "source": [
    "## Combining *args and **kwargs\n",
    "You can use both in a single function to handle positional and keyword arguments:"
   ]
  },
  {
   "cell_type": "code",
   "execution_count": 1,
   "metadata": {},
   "outputs": [
    {
     "name": "stdout",
     "output_type": "stream",
     "text": [
      "Subject: Meeting Reminder\n",
      "Recipients:\n",
      " - alice@example.com\n",
      " - bob@example.com\n",
      "Additional Details:\n",
      "time: 10:00 AM\n",
      "date: 2024-12-04\n",
      "location: Conference Room\n"
     ]
    }
   ],
   "source": [
    "def send_email(subject, *args, **kwargs):\n",
    "    print(f\"Subject: {subject}\")\n",
    "    print(\"Recipients:\")\n",
    "    for recipient in args:\n",
    "        print(f\" - {recipient}\")\n",
    "    print(\"Additional Details:\")\n",
    "    for key, value in kwargs.items():\n",
    "        print(f\"{key}: {value}\")\n",
    "\n",
    "# Example usage:\n",
    "send_email(\n",
    "    \"Meeting Reminder\",\n",
    "    \"alice@example.com\", \"bob@example.com\",\n",
    "    time=\"10:00 AM\",\n",
    "    date=\"2024-12-04\",\n",
    "    location=\"Conference Room\"\n",
    ")\n",
    "# Output:\n",
    "# Subject: Meeting Reminder\n",
    "# Recipients:\n",
    "#  - alice@example.com\n",
    "#  - bob@example.com\n",
    "# Additional Details:\n",
    "# time: 10:00 AM\n",
    "# date: 2024-12-04\n",
    "# location: Conference Room\n"
   ]
  },
  {
   "cell_type": "markdown",
   "metadata": {},
   "source": [
    "## ## Using *args for dynamic function delegation\n",
    "You can forward arguments to another function:"
   ]
  },
  {
   "cell_type": "code",
   "execution_count": 2,
   "metadata": {},
   "outputs": [
    {
     "name": "stdout",
     "output_type": "stream",
     "text": [
      "8\n",
      "2\n"
     ]
    }
   ],
   "source": [
    "def add(a, b):\n",
    "    return a + b\n",
    "\n",
    "def subtract(a, b):\n",
    "    return a - b\n",
    "\n",
    "def execute(func, *args):\n",
    "    return func(*args)\n",
    "\n",
    "# Example usage:\n",
    "print(execute(add, 5, 3))         # Output: 8\n",
    "print(execute(subtract, 5, 3))    # Output: 2\n"
   ]
  },
  {
   "cell_type": "markdown",
   "metadata": {},
   "source": [
    "Using **kwargs for configuration or customization\n",
    "Passing configuration options dynamically:"
   ]
  },
  {
   "cell_type": "code",
   "execution_count": 3,
   "metadata": {},
   "outputs": [
    {
     "name": "stdout",
     "output_type": "stream",
     "text": [
      "Server Configuration: {'host': 'localhost', 'port': 8000, 'debug': True}\n"
     ]
    }
   ],
   "source": [
    "def configure_server(**kwargs):\n",
    "    defaults = {\"host\": \"localhost\", \"port\": 8080, \"debug\": False}\n",
    "    config = {**defaults, **kwargs}\n",
    "    print(f\"Server Configuration: {config}\")\n",
    "\n",
    "# Example usage:\n",
    "configure_server(port=8000, debug=True)\n",
    "# Output: Server Configuration: {'host': 'localhost', 'port': 8000, 'debug': True}\n"
   ]
  },
  {
   "cell_type": "markdown",
   "metadata": {},
   "source": [
    "## Class Initialization with **kwargs\n",
    "Passing configuration details to a class:"
   ]
  },
  {
   "cell_type": "code",
   "execution_count": 4,
   "metadata": {},
   "outputs": [
    {
     "name": "stdout",
     "output_type": "stream",
     "text": [
      "2024 Tesla Model 3\n"
     ]
    }
   ],
   "source": [
    "class Car:\n",
    "    def __init__(self, **kwargs):\n",
    "        self.make = kwargs.get(\"make\", \"Unknown\")\n",
    "        self.model = kwargs.get(\"model\", \"Unknown\")\n",
    "        self.year = kwargs.get(\"year\", \"Unknown\")\n",
    "\n",
    "    def display(self):\n",
    "        print(f\"{self.year} {self.make} {self.model}\")\n",
    "\n",
    "# Example usage:\n",
    "car = Car(make=\"Tesla\", model=\"Model 3\", year=2024)\n",
    "car.display()  # Output: 2024 Tesla Model 3\n"
   ]
  },
  {
   "cell_type": "markdown",
   "metadata": {},
   "source": [
    "## Extending Functionality Without Modifying Code\n",
    "Extend functionality of existing functions:"
   ]
  },
  {
   "cell_type": "code",
   "execution_count": null,
   "metadata": {},
   "outputs": [],
   "source": [
    "def base_function(*args, **kwargs):\n",
    "    print(\"Base function\")\n",
    "    print(f\"Positional args: {args}\")\n",
    "    print(f\"Keyword args: {kwargs}\")\n",
    "\n",
    "def extended_function(*args, extra_arg=\"default\", **kwargs):\n",
    "    print(f\"Extended functionality: {extra_arg}\")\n",
    "    base_function(*args, **kwargs)\n",
    "\n",
    "# Example usage:\n",
    "extended_function(1, 2, 3, key=\"value\", extra_arg=\"special\")\n",
    "# Output:\n",
    "# Extended functionality: special\n",
    "# Base function\n",
    "# Positional args: (1, 2, 3)\n",
    "# Keyword args: {'key': 'value'}\n"
   ]
  }
 ],
 "metadata": {
  "kernelspec": {
   "display_name": ".venv",
   "language": "python",
   "name": "python3"
  },
  "language_info": {
   "codemirror_mode": {
    "name": "ipython",
    "version": 3
   },
   "file_extension": ".py",
   "mimetype": "text/x-python",
   "name": "python",
   "nbconvert_exporter": "python",
   "pygments_lexer": "ipython3",
   "version": "3.12.3"
  }
 },
 "nbformat": 4,
 "nbformat_minor": 2
}
