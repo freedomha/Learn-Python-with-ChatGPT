{
 "cells": [
  {
   "cell_type": "markdown",
   "metadata": {},
   "source": [
    "Strategy Pattern\n",
    "Defines a family of algorithms, encapsulates each one, and makes them interchangeable."
   ]
  },
  {
   "cell_type": "code",
   "execution_count": 1,
   "metadata": {},
   "outputs": [
    {
     "name": "stdout",
     "output_type": "stream",
     "text": [
      "Strategy A\n",
      "Strategy B\n"
     ]
    }
   ],
   "source": [
    "class StrategyA:\n",
    "    def execute(self):\n",
    "        return \"Strategy A\"\n",
    "\n",
    "class StrategyB:\n",
    "    def execute(self):\n",
    "        return \"Strategy B\"\n",
    "\n",
    "class Context:\n",
    "    def __init__(self, strategy):\n",
    "        self.strategy = strategy\n",
    "\n",
    "    def execute_strategy(self):\n",
    "        return self.strategy.execute()\n",
    "\n",
    "# Example usage:\n",
    "context = Context(StrategyA())\n",
    "print(context.execute_strategy())  # Output: Strategy A\n",
    "context.strategy = StrategyB()\n",
    "print(context.execute_strategy())  # Output: Strategy B\n"
   ]
  }
 ],
 "metadata": {
  "kernelspec": {
   "display_name": ".venv",
   "language": "python",
   "name": "python3"
  },
  "language_info": {
   "codemirror_mode": {
    "name": "ipython",
    "version": 3
   },
   "file_extension": ".py",
   "mimetype": "text/x-python",
   "name": "python",
   "nbconvert_exporter": "python",
   "pygments_lexer": "ipython3",
   "version": "3.12.3"
  }
 },
 "nbformat": 4,
 "nbformat_minor": 2
}
