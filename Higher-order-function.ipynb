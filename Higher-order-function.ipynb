{
 "cells": [
  {
   "cell_type": "markdown",
   "metadata": {},
   "source": [
    "A higher-order function in Python is a function that either:\n",
    "\n",
    "Takes one or more functions as arguments.\n",
    "Returns a function as its result.\n",
    "Here are some examples:"
   ]
  },
  {
   "cell_type": "markdown",
   "metadata": {},
   "source": [
    "1. Using a Higher-Order Function as an Argument\n",
    "The map() function takes another function and applies it to each element in an iterable:"
   ]
  },
  {
   "cell_type": "code",
   "execution_count": 1,
   "metadata": {},
   "outputs": [
    {
     "name": "stdout",
     "output_type": "stream",
     "text": [
      "[1, 4, 9, 16]\n"
     ]
    }
   ],
   "source": [
    "# Higher-order function: map()\n",
    "def square(x):\n",
    "    return x * x\n",
    "\n",
    "numbers = [1, 2, 3, 4]\n",
    "squared_numbers = map(square, numbers)\n",
    "\n",
    "print(list(squared_numbers))  # Output: [1, 4, 9, 16]\n"
   ]
  },
  {
   "cell_type": "markdown",
   "metadata": {},
   "source": [
    "2. Returning a Function\n",
    "A function can return another function as its result:"
   ]
  },
  {
   "cell_type": "code",
   "execution_count": 5,
   "metadata": {},
   "outputs": [
    {
     "name": "stdout",
     "output_type": "stream",
     "text": [
      "15\n"
     ]
    }
   ],
   "source": [
    "# Higher-order function that returns a function\n",
    "def multiplier(n):\n",
    "    def multiply_by(x):\n",
    "        return x * n\n",
    "    return multiply_by\n",
    "\n",
    "times_three = multiplier(3)  # returns a function that multiplies by 3\n",
    "print(times_three(5))        # Output: 15\n"
   ]
  },
  {
   "cell_type": "markdown",
   "metadata": {},
   "source": [
    "3. Using a Function as a Callback\n",
    "The filter() function takes a function to determine whether each element should be included:"
   ]
  },
  {
   "cell_type": "code",
   "execution_count": null,
   "metadata": {},
   "outputs": [],
   "source": [
    "# Higher-order function: filter()\n",
    "def is_even(x):\n",
    "    return x % 2 == 0\n",
    "\n",
    "numbers = [1, 2, 3, 4, 5, 6]\n",
    "even_numbers = filter(is_even, numbers)\n",
    "\n",
    "print(list(even_numbers))  # Output: [2, 4, 6]\n"
   ]
  },
  {
   "cell_type": "markdown",
   "metadata": {},
   "source": [
    "4. Higher-Order Function: reduce()\n",
    "The reduce() function (from functools) repeatedly applies a function to the elements of an iterable:"
   ]
  },
  {
   "cell_type": "code",
   "execution_count": null,
   "metadata": {},
   "outputs": [],
   "source": [
    "from functools import reduce\n",
    "\n",
    "# Higher-order function: reduce()\n",
    "def add(x, y):\n",
    "    return x + y\n",
    "\n",
    "numbers = [1, 2, 3, 4]\n",
    "total = reduce(add, numbers)\n",
    "\n",
    "print(total)  # Output: 10\n"
   ]
  },
  {
   "cell_type": "markdown",
   "metadata": {},
   "source": [
    "5. Using lambda with Higher-Order Functions\n",
    "Higher-order functions often work well with lambda expressions for compact code:\n",
    "\n"
   ]
  },
  {
   "cell_type": "code",
   "execution_count": null,
   "metadata": {},
   "outputs": [],
   "source": [
    "numbers = [1, 2, 3, 4, 5]\n",
    "\n",
    "# Using lambda with map()\n",
    "squared = map(lambda x: x * x, numbers)\n",
    "print(list(squared))  # Output: [1, 4, 9, 16, 25]\n",
    "\n",
    "# Using lambda with filter()\n",
    "evens = filter(lambda x: x % 2 == 0, numbers)\n",
    "print(list(evens))    # Output: [2, 4]\n"
   ]
  }
 ],
 "metadata": {
  "kernelspec": {
   "display_name": ".venv",
   "language": "python",
   "name": "python3"
  },
  "language_info": {
   "codemirror_mode": {
    "name": "ipython",
    "version": 3
   },
   "file_extension": ".py",
   "mimetype": "text/x-python",
   "name": "python",
   "nbconvert_exporter": "python",
   "pygments_lexer": "ipython3",
   "version": "3.12.3"
  }
 },
 "nbformat": 4,
 "nbformat_minor": 2
}
