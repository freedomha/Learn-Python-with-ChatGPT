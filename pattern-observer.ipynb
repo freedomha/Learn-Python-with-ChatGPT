{
 "cells": [
  {
   "cell_type": "markdown",
   "metadata": {},
   "source": [
    " Observer Pattern\n",
    "Defines a one-to-many dependency so that when one object changes state, all dependents are notified."
   ]
  },
  {
   "cell_type": "code",
   "execution_count": 1,
   "metadata": {},
   "outputs": [
    {
     "name": "stdout",
     "output_type": "stream",
     "text": [
      "Observer received: Event occurred\n",
      "Observer received: Event occurred\n"
     ]
    }
   ],
   "source": [
    "class Observer:\n",
    "    def update(self, message):\n",
    "        print(f\"Observer received: {message}\")\n",
    "\n",
    "class Subject:\n",
    "    def __init__(self):\n",
    "        self._observers = []\n",
    "\n",
    "    def attach(self, observer):\n",
    "        self._observers.append(observer)\n",
    "\n",
    "    def notify(self, message):\n",
    "        for observer in self._observers:\n",
    "            observer.update(message)\n",
    "\n",
    "# Example usage:\n",
    "subject = Subject()\n",
    "observer1 = Observer()\n",
    "observer2 = Observer()\n",
    "subject.attach(observer1)\n",
    "subject.attach(observer2)\n",
    "subject.notify(\"Event occurred\")  # Output: Both observers receive \"Event occurred\"\n"
   ]
  }
 ],
 "metadata": {
  "kernelspec": {
   "display_name": ".venv",
   "language": "python",
   "name": "python3"
  },
  "language_info": {
   "codemirror_mode": {
    "name": "ipython",
    "version": 3
   },
   "file_extension": ".py",
   "mimetype": "text/x-python",
   "name": "python",
   "nbconvert_exporter": "python",
   "pygments_lexer": "ipython3",
   "version": "3.12.3"
  }
 },
 "nbformat": 4,
 "nbformat_minor": 2
}
