{
 "cells": [
  {
   "cell_type": "markdown",
   "metadata": {},
   "source": [
    " Observer Pattern\n",
    "Defines a one-to-many dependency so that when one object changes state, all dependents are notified."
   ]
  },
  {
   "cell_type": "code",
   "execution_count": 1,
   "metadata": {},
   "outputs": [
    {
     "name": "stdout",
     "output_type": "stream",
     "text": [
      "Observer received: Event occurred\n",
      "Observer received: Event occurred\n"
     ]
    }
   ],
   "source": [
    "class Observer:\n",
    "    def update(self, message):\n",
    "        print(f\"Observer received: {message}\")\n",
    "\n",
    "class Subject:\n",
    "    def __init__(self):\n",
    "        self._observers = []\n",
    "\n",
    "    def attach(self, observer):\n",
    "        self._observers.append(observer)\n",
    "\n",
    "    def notify(self, message):\n",
    "        for observer in self._observers:\n",
    "            observer.update(message)\n",
    "\n",
    "# Example usage:\n",
    "subject = Subject()\n",
    "observer1 = Observer()\n",
    "observer2 = Observer()\n",
    "subject.attach(observer1)\n",
    "subject.attach(observer2)\n",
    "subject.notify(\"Event occurred\")  # Output: Both observers receive \"Event occurred\"\n"
   ]
  },
  {
   "cell_type": "markdown",
   "metadata": {},
   "source": [
    "## Notification System for Deployment Events\n",
    "This example mimics a scenario where a deployment pipeline notifies various monitoring tools or alert systems whenever a deployment event occurs."
   ]
  },
  {
   "cell_type": "code",
   "execution_count": 7,
   "metadata": {},
   "outputs": [
    {
     "name": "stdout",
     "output_type": "stream",
     "text": [
      "Deploying MyApp...\n",
      "[Email Notification] MyApp has been deployed successfully!\n",
      "[Slack Notification] MyApp has been deployed successfully!\n",
      "[Log] MyApp has been deployed successfully!\n",
      "Deploying AnotherApp2...\n",
      "[Email Notification] AnotherApp2 has been deployed successfully!\n",
      "[Log] AnotherApp2 has been deployed successfully!\n"
     ]
    }
   ],
   "source": [
    "from typing import List, Protocol\n",
    "\n",
    "# Observer interface\n",
    "class Observer(Protocol):\n",
    "    def update(self, message: str) -> None:\n",
    "        ...\n",
    "\n",
    "# Subject class\n",
    "class DeploymentPipeline:\n",
    "    def __init__(self) -> None:\n",
    "        self._observers: List[Observer] = []\n",
    "    \n",
    "    def attach(self, observer: Observer) -> None:\n",
    "        self._observers.append(observer)\n",
    "    \n",
    "    def detach(self, observer: Observer) -> None:\n",
    "        self._observers.remove(observer)\n",
    "    \n",
    "    def notify(self, message: str) -> None:\n",
    "        for observer in self._observers:\n",
    "            observer.update(message)\n",
    "    \n",
    "    def deploy(self, app_name: str) -> None:\n",
    "        # Simulate deployment\n",
    "        print(f\"Deploying {app_name}...\")\n",
    "        # Notify observers\n",
    "        self.notify(f\"{app_name} has been deployed successfully!\")\n",
    "\n",
    "# Concrete observers\n",
    "class EmailNotificationService:\n",
    "    def update(self, message: str) -> None:\n",
    "        print(f\"[Email Notification] {message}\")\n",
    "\n",
    "class SlackNotificationServicee:\n",
    "    def update(self, message: str) -> None:\n",
    "        print(f\"[Slack Notification] {message}\")\n",
    "\n",
    "class LoggingServicee:\n",
    "    def update(self, message: str) -> None:\n",
    "        print(f\"[Log] {message}\")\n",
    "\n",
    "# Example usage\n",
    "if __name__ == \"__main__\":\n",
    "    pipeline = DeploymentPipeline()\n",
    "    \n",
    "    email_service = EmailNotificationService()\n",
    "    slack_service = SlackNotificationService()\n",
    "    logging_service = LoggingService()\n",
    "    \n",
    "    # Attach observers\n",
    "    pipeline.attach(email_service)\n",
    "    pipeline.attach(slack_service)\n",
    "    pipeline.attach(logging_service)\n",
    "    \n",
    "    # Trigger deployment\n",
    "    pipeline.deploy(\"MyApp\")\n",
    "\n",
    "    # Detach an observer and redeploy\n",
    "    pipeline.detach(slack_service)\n",
    "    pipeline.deploy(\"AnotherApp2\")\n"
   ]
  }
 ],
 "metadata": {
  "kernelspec": {
   "display_name": ".venv",
   "language": "python",
   "name": "python3"
  },
  "language_info": {
   "codemirror_mode": {
    "name": "ipython",
    "version": 3
   },
   "file_extension": ".py",
   "mimetype": "text/x-python",
   "name": "python",
   "nbconvert_exporter": "python",
   "pygments_lexer": "ipython3",
   "version": "3.12.3"
  }
 },
 "nbformat": 4,
 "nbformat_minor": 2
}
