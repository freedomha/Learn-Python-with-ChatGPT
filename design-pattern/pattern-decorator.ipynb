{
 "cells": [
  {
   "cell_type": "markdown",
   "metadata": {},
   "source": [
    "Decorator Pattern\n",
    "Adds functionality to objects dynamically without modifying their structure."
   ]
  },
  {
   "cell_type": "code",
   "execution_count": null,
   "metadata": {},
   "outputs": [],
   "source": [
    "def uppercase_decorator(func):\n",
    "    def wrapper(text):\n",
    "        return func(text).upper()\n",
    "    return wrapper\n",
    "\n",
    "@uppercase_decorator\n",
    "def greet(name):\n",
    "    return f\"Hello, {name}\"\n",
    "\n",
    "# Example usage:\n",
    "print(greet(\"Alice\"))  # Output: HELLO, ALICE\n"
   ]
  },
  {
   "cell_type": "markdown",
   "metadata": {},
   "source": [
    "## Logging Decorator for CI/CD Pipeline Steps\n",
    "In DevOps, it’s important to log actions performed in your pipeline, like building, testing, or deploying. The Decorator Pattern allows you to add logging functionality dynamically to any part of your pipeline."
   ]
  },
  {
   "cell_type": "code",
   "execution_count": 1,
   "metadata": {},
   "outputs": [
    {
     "name": "stdout",
     "output_type": "stream",
     "text": [
      "Starting: build\n",
      "Building the application...\n",
      "Completed: build in 2.00 seconds\n",
      "Starting: test\n",
      "Running tests...\n",
      "Completed: test in 1.00 seconds\n",
      "Starting: deploy\n",
      "Deploying to production...\n",
      "Completed: deploy in 3.00 seconds\n"
     ]
    }
   ],
   "source": [
    "import time\n",
    "\n",
    "# Step decorator to log the start and end of the action\n",
    "def log_step(func):\n",
    "    def wrapper(*args, **kwargs):\n",
    "        print(f\"Starting: {func.__name__}\")\n",
    "        start_time = time.time()\n",
    "        result = func(*args, **kwargs)\n",
    "        end_time = time.time()\n",
    "        print(f\"Completed: {func.__name__} in {end_time - start_time:.2f} seconds\")\n",
    "        return result\n",
    "    return wrapper\n",
    "\n",
    "# Example pipeline steps with decorators\n",
    "class Pipeline:\n",
    "    @log_step\n",
    "    def build(self):\n",
    "        print(\"Building the application...\")\n",
    "        time.sleep(2)\n",
    "\n",
    "    @log_step\n",
    "    def test(self):\n",
    "        print(\"Running tests...\")\n",
    "        time.sleep(1)\n",
    "\n",
    "    @log_step\n",
    "    def deploy(self):\n",
    "        print(\"Deploying to production...\")\n",
    "        time.sleep(3)\n",
    "\n",
    "# Usage\n",
    "pipeline = Pipeline()\n",
    "pipeline.build()\n",
    "pipeline.test()\n",
    "pipeline.deploy()\n"
   ]
  },
  {
   "cell_type": "markdown",
   "metadata": {},
   "source": [
    "## Authentication Decorator for API Endpoints\n",
    "In DevOps, securing APIs or services is critical. A decorator can be used to add authentication to any API call without modifying the core logic of the endpoint."
   ]
  },
  {
   "cell_type": "code",
   "execution_count": 2,
   "metadata": {},
   "outputs": [
    {
     "name": "stdout",
     "output_type": "stream",
     "text": [
      "Sensitive data\n",
      "Authentication required\n"
     ]
    }
   ],
   "source": [
    "# Decorator to check authentication\n",
    "def require_authentication(func):\n",
    "    def wrapper(*args, **kwargs):\n",
    "        if not args[0].authenticated:\n",
    "            raise PermissionError(\"Authentication required\")\n",
    "        return func(*args, **kwargs)\n",
    "    return wrapper\n",
    "\n",
    "class APIService:\n",
    "    def __init__(self, authenticated=False):\n",
    "        self.authenticated = authenticated\n",
    "\n",
    "    @require_authentication\n",
    "    def get_data(self):\n",
    "        return \"Sensitive data\"\n",
    "\n",
    "    @require_authentication\n",
    "    def post_data(self, data):\n",
    "        print(f\"Posting data: {data}\")\n",
    "\n",
    "# Usage\n",
    "service = APIService(authenticated=True)\n",
    "print(service.get_data())  # Should succeed\n",
    "\n",
    "service = APIService(authenticated=False)\n",
    "try:\n",
    "    print(service.get_data())  # Should raise PermissionError\n",
    "except PermissionError as e:\n",
    "    print(e)\n"
   ]
  },
  {
   "cell_type": "markdown",
   "metadata": {},
   "source": [
    "## Retry Decorator for Deployment Steps\n",
    "In DevOps, you might want to automatically retry certain steps (like deployment) if they fail. A retry decorator can add this functionality dynamically to any step."
   ]
  },
  {
   "cell_type": "code",
   "execution_count": 11,
   "metadata": {},
   "outputs": [
    {
     "name": "stdout",
     "output_type": "stream",
     "text": [
      "Deploying to Staging...\n",
      "Attempt 1 failed: Deployment failed\n",
      "Retrying...\n",
      "Deploying to Staging...\n",
      "Attempt 2 failed: Deployment failed\n",
      "Retrying...\n",
      "Deploying to Staging...\n",
      "Attempt 3 failed: Deployment failed\n",
      "Final failure: Deployment failed\n"
     ]
    }
   ],
   "source": [
    "import random\n",
    "\n",
    "# Decorator to retry a function if it fails\n",
    "def retry(times=3):\n",
    "    def decorator(func):\n",
    "        def wrapper(*args, **kwargs):\n",
    "            for attempt in range(times):\n",
    "                try:\n",
    "                    return func(*args, **kwargs)\n",
    "                except Exception as e:\n",
    "                    print(f\"Attempt {attempt + 1} failed: {e}\")\n",
    "                    if attempt == times - 1:\n",
    "                        raise\n",
    "                    else:\n",
    "                        print(\"Retrying...\")\n",
    "        return wrapper\n",
    "    return decorator\n",
    "\n",
    "class Deployment:\n",
    "    @retry(times=3)\n",
    "    def deploy_to_staging(self):\n",
    "        print(\"Deploying to Staging...\")\n",
    "        if random.random() < 0.5:  # Simulate failure\n",
    "            raise Exception(\"Deployment failed\")\n",
    "        print(\"Deployment to Staging successful\")\n",
    "\n",
    "# Usage\n",
    "deployment = Deployment()\n",
    "try:\n",
    "    deployment.deploy_to_staging()  # Retry if it fails\n",
    "except Exception as e:\n",
    "    print(f\"Final failure: {e}\")\n"
   ]
  },
  {
   "cell_type": "markdown",
   "metadata": {},
   "source": [
    "## Cache Decorator for Task Results\n",
    "In DevOps, you might want to cache the results of a task (e.g., a long-running operation like a build) to avoid repeating expensive operations. A cache decorator can be used to achieve this."
   ]
  },
  {
   "cell_type": "code",
   "execution_count": 12,
   "metadata": {},
   "outputs": [
    {
     "name": "stdout",
     "output_type": "stream",
     "text": [
      "Cache miss. Executing task...\n",
      "Building application App1...\n",
      "Build completed for App1\n",
      "Cache hit. Returning cached result...\n",
      "Build completed for App1\n"
     ]
    }
   ],
   "source": [
    "# Cache decorator to avoid re-executing long tasks\n",
    "def cache(func):\n",
    "    cached_results = {}\n",
    "\n",
    "    def wrapper(*args, **kwargs):\n",
    "        key = (args, tuple(kwargs.items()))\n",
    "        if key not in cached_results:\n",
    "            print(\"Cache miss. Executing task...\")\n",
    "            cached_results[key] = func(*args, **kwargs)\n",
    "        else:\n",
    "            print(\"Cache hit. Returning cached result...\")\n",
    "        return cached_results[key]\n",
    "\n",
    "    return wrapper\n",
    "\n",
    "class BuildService:\n",
    "    @cache\n",
    "    def build_application(self, app_name):\n",
    "        print(f\"Building application {app_name}...\")\n",
    "        time.sleep(2)  # Simulate build process\n",
    "        return f\"Build completed for {app_name}\"\n",
    "\n",
    "# Usage\n",
    "build_service = BuildService()\n",
    "\n",
    "# First call will execute the build\n",
    "print(build_service.build_application(\"App1\"))\n",
    "\n",
    "# Second call with same arguments will return cached result\n",
    "print(build_service.build_application(\"App1\"))\n"
   ]
  }
 ],
 "metadata": {
  "kernelspec": {
   "display_name": ".venv",
   "language": "python",
   "name": "python3"
  },
  "language_info": {
   "codemirror_mode": {
    "name": "ipython",
    "version": 3
   },
   "file_extension": ".py",
   "mimetype": "text/x-python",
   "name": "python",
   "nbconvert_exporter": "python",
   "pygments_lexer": "ipython3",
   "version": "3.12.3"
  }
 },
 "nbformat": 4,
 "nbformat_minor": 2
}
