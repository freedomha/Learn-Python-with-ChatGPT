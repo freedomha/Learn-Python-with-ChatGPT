{
 "cells": [
  {
   "cell_type": "markdown",
   "metadata": {},
   "source": [
    "Singleton Pattern\n",
    "Ensures a class has only one instance and provides a global point of access to it."
   ]
  },
  {
   "cell_type": "code",
   "execution_count": null,
   "metadata": {},
   "outputs": [],
   "source": [
    "class Singleton:\n",
    "    _instance = None\n",
    "\n",
    "    def __new__(cls, *args, **kwargs):\n",
    "        if not cls._instance:\n",
    "            cls._instance = super().__new__(cls)\n",
    "        return cls._instance\n",
    "\n",
    "# Example usage:\n",
    "obj1 = Singleton()\n",
    "obj2 = Singleton()\n",
    "print(obj1 is obj2)  # Output: True\n"
   ]
  },
  {
   "cell_type": "markdown",
   "metadata": {},
   "source": [
    "## Example: Centralized Logging System\n",
    "In a DevOps environment, a logging system is often shared across multiple components. The Singleton Pattern ensures that there is only one instance of the logger, regardless of how many times it is accessed."
   ]
  },
  {
   "cell_type": "code",
   "execution_count": 1,
   "metadata": {},
   "outputs": [
    {
     "name": "stdout",
     "output_type": "stream",
     "text": [
      "Logger initialized. Writing to system.log.\n",
      "[LOG]: Deployment started.\n",
      "[LOG]: Deployment completed.\n",
      "Logger1 is Logger2: True\n"
     ]
    }
   ],
   "source": [
    "import threading\n",
    "\n",
    "class Logger:\n",
    "    _instance = None\n",
    "    _lock = threading.Lock()  # Ensures thread safety\n",
    "\n",
    "    def __new__(cls):\n",
    "        # Double-checked locking\n",
    "        if cls._instance is None:\n",
    "            with cls._lock:\n",
    "                if cls._instance is None:\n",
    "                    cls._instance = super().__new__(cls)\n",
    "                    cls._instance._initialize()\n",
    "        return cls._instance\n",
    "\n",
    "    def _initialize(self) -> None:\n",
    "        # Simulate logger initialization\n",
    "        self.log_file = \"system.log\"\n",
    "        print(f\"Logger initialized. Writing to {self.log_file}.\")\n",
    "\n",
    "    def log(self, message: str) -> None:\n",
    "        # Simulate writing to a log file\n",
    "        print(f\"[LOG]: {message}\")\n",
    "\n",
    "# Example usage\n",
    "if __name__ == \"__main__\":\n",
    "    logger1 = Logger()\n",
    "    logger2 = Logger()\n",
    "\n",
    "    logger1.log(\"Deployment started.\")\n",
    "    logger2.log(\"Deployment completed.\")\n",
    "\n",
    "    print(f\"Logger1 is Logger2: {logger1 is logger2}\")\n"
   ]
  }
 ],
 "metadata": {
  "kernelspec": {
   "display_name": ".venv",
   "language": "python",
   "name": "python3"
  },
  "language_info": {
   "codemirror_mode": {
    "name": "ipython",
    "version": 3
   },
   "file_extension": ".py",
   "mimetype": "text/x-python",
   "name": "python",
   "nbconvert_exporter": "python",
   "pygments_lexer": "ipython3",
   "version": "3.12.3"
  }
 },
 "nbformat": 4,
 "nbformat_minor": 2
}
