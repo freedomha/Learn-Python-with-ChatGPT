{
 "cells": [
  {
   "cell_type": "markdown",
   "metadata": {},
   "source": [
    "The Builder Pattern is a creational design pattern that allows you to construct a complex object step by step. It provides a flexible solution for constructing objects that need to be created with different configurations or components. The Builder Pattern is commonly used when an object’s construction process is more complex than simply calling a constructor."
   ]
  },
  {
   "cell_type": "code",
   "execution_count": null,
   "metadata": {},
   "outputs": [],
   "source": [
    "class Car:\n",
    "    def __init__(self):\n",
    "        self.parts = []\n",
    "\n",
    "    def add_part(self, part):\n",
    "        self.parts.append(part)\n",
    "\n",
    "    def show(self):\n",
    "        print(\"Car parts:\", \", \".join(self.parts))\n",
    "\n",
    "class CarBuilder:\n",
    "    def __init__(self):\n",
    "        self.car = Car()\n",
    "\n",
    "    def add_engine(self):\n",
    "        self.car.add_part(\"Engine\")\n",
    "\n",
    "    def add_wheels(self):\n",
    "        self.car.add_part(\"Wheels\")\n",
    "\n",
    "    def get_car(self):\n",
    "        return self.car\n",
    "\n",
    "# Example usage:\n",
    "builder = CarBuilder()\n",
    "builder.add_engine()\n",
    "builder.add_wheels()\n",
    "car = builder.get_car()\n",
    "car.show()  # Output: Car parts: Engine, Wheels\n"
   ]
  },
  {
   "cell_type": "markdown",
   "metadata": {},
   "source": [
    "## Docker Container Builder\n",
    "In DevOps, you might need to automate the process of creating Docker containers with specific configurations. A Builder Pattern can be used to manage the steps involved in building the container image."
   ]
  },
  {
   "cell_type": "code",
   "execution_count": 1,
   "metadata": {},
   "outputs": [
    {
     "name": "stdout",
     "output_type": "stream",
     "text": [
      "Docker image built with base: python:3.9-slim, dependencies: flask, gunicorn, exposed ports: 80, 443, entrypoint: gunicorn app:app\n"
     ]
    }
   ],
   "source": [
    "class DockerImage:\n",
    "    def __init__(self):\n",
    "        self.base_image = None\n",
    "        self.dependencies = []\n",
    "        self.exposed_ports = []\n",
    "        self.entrypoint = None\n",
    "\n",
    "    def __str__(self):\n",
    "        return (f\"Docker image built with base: {self.base_image}, \"\n",
    "                f\"dependencies: {', '.join(self.dependencies)}, \"\n",
    "                f\"exposed ports: {', '.join(map(str, self.exposed_ports))}, \"\n",
    "                f\"entrypoint: {self.entrypoint}\")\n",
    "\n",
    "\n",
    "class DockerImageBuilder:\n",
    "    def __init__(self):\n",
    "        self.image = DockerImage()\n",
    "\n",
    "    def set_base_image(self, base_image):\n",
    "        self.image.base_image = base_image\n",
    "        return self\n",
    "\n",
    "    def add_dependencies(self, *dependencies):\n",
    "        self.image.dependencies.extend(dependencies)\n",
    "        return self\n",
    "\n",
    "    def expose_ports(self, *ports):\n",
    "        self.image.exposed_ports.extend(ports)\n",
    "        return self\n",
    "\n",
    "    def set_entrypoint(self, entrypoint):\n",
    "        self.image.entrypoint = entrypoint\n",
    "        return self\n",
    "\n",
    "    def build(self):\n",
    "        return self.image\n",
    "\n",
    "\n",
    "# Usage\n",
    "builder = DockerImageBuilder()\n",
    "docker_image = (builder.set_base_image(\"python:3.9-slim\")\n",
    "                .add_dependencies(\"flask\", \"gunicorn\")\n",
    "                .expose_ports(80, 443)\n",
    "                .set_entrypoint(\"gunicorn app:app\")\n",
    "                .build())\n",
    "\n",
    "print(docker_image)\n"
   ]
  },
  {
   "cell_type": "markdown",
   "metadata": {},
   "source": [
    "## Kubernetes Deployment Builder\n",
    "When setting up Kubernetes, you might need to create complex deployment configurations. The Builder Pattern can be used to generate Kubernetes YAML files dynamically, enabling automated setup of Kubernetes resources."
   ]
  },
  {
   "cell_type": "code",
   "execution_count": 2,
   "metadata": {},
   "outputs": [
    {
     "name": "stdout",
     "output_type": "stream",
     "text": [
      "Kubernetes Deployment with 3 replicas, container image: nginx:latest, container port: 80, namespace: prod\n"
     ]
    }
   ],
   "source": [
    "class KubernetesDeployment:\n",
    "    def __init__(self):\n",
    "        self.replicas = None\n",
    "        self.container_image = None\n",
    "        self.container_port = None\n",
    "        self.namespace = None\n",
    "\n",
    "    def __str__(self):\n",
    "        return (f\"Kubernetes Deployment with {self.replicas} replicas, \"\n",
    "                f\"container image: {self.container_image}, \"\n",
    "                f\"container port: {self.container_port}, \"\n",
    "                f\"namespace: {self.namespace}\")\n",
    "\n",
    "\n",
    "class KubernetesDeploymentBuilder:\n",
    "    def __init__(self):\n",
    "        self.deployment = KubernetesDeployment()\n",
    "\n",
    "    def set_replicas(self, replicas):\n",
    "        self.deployment.replicas = replicas\n",
    "        return self\n",
    "\n",
    "    def set_container_image(self, image):\n",
    "        self.deployment.container_image = image\n",
    "        return self\n",
    "\n",
    "    def set_container_port(self, port):\n",
    "        self.deployment.container_port = port\n",
    "        return self\n",
    "\n",
    "    def set_namespace(self, namespace):\n",
    "        self.deployment.namespace = namespace\n",
    "        return self\n",
    "\n",
    "    def build(self):\n",
    "        return self.deployment\n",
    "\n",
    "\n",
    "# Usage\n",
    "builder = KubernetesDeploymentBuilder()\n",
    "deployment = (builder.set_replicas(3)\n",
    "              .set_container_image(\"nginx:latest\")\n",
    "              .set_container_port(80)\n",
    "              .set_namespace(\"prod\")\n",
    "              .build())\n",
    "\n",
    "print(deployment)\n"
   ]
  }
 ],
 "metadata": {
  "kernelspec": {
   "display_name": ".venv",
   "language": "python",
   "name": "python3"
  },
  "language_info": {
   "codemirror_mode": {
    "name": "ipython",
    "version": 3
   },
   "file_extension": ".py",
   "mimetype": "text/x-python",
   "name": "python",
   "nbconvert_exporter": "python",
   "pygments_lexer": "ipython3",
   "version": "3.12.3"
  }
 },
 "nbformat": 4,
 "nbformat_minor": 2
}
