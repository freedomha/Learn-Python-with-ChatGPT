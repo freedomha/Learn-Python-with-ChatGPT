{
 "cells": [
  {
   "cell_type": "markdown",
   "metadata": {},
   "source": [
    "Strategy Pattern\n",
    "Defines a family of algorithms, encapsulates each one, and makes them interchangeable."
   ]
  },
  {
   "cell_type": "code",
   "execution_count": 1,
   "metadata": {},
   "outputs": [
    {
     "name": "stdout",
     "output_type": "stream",
     "text": [
      "Strategy A\n",
      "Strategy B\n"
     ]
    }
   ],
   "source": [
    "class StrategyA:\n",
    "    def execute(self):\n",
    "        return \"Strategy A\"\n",
    "\n",
    "class StrategyB:\n",
    "    def execute(self):\n",
    "        return \"Strategy B\"\n",
    "\n",
    "class Context:\n",
    "    def __init__(self, strategy):\n",
    "        self.strategy = strategy\n",
    "\n",
    "    def execute_strategy(self):\n",
    "        return self.strategy.execute()\n",
    "\n",
    "# Example usage:\n",
    "context = Context(StrategyA())\n",
    "print(context.execute_strategy())  # Output: Strategy A\n",
    "context.strategy = StrategyB()\n",
    "print(context.execute_strategy())  # Output: Strategy B\n"
   ]
  },
  {
   "cell_type": "markdown",
   "metadata": {},
   "source": [
    "## Example: Deployment Strategy in CI/CD Pipelines\n",
    "In a deployment pipeline, different deployment strategies like Rolling Deployment, Blue-Green Deployment, and Canary Deployment might be needed based on context. The Strategy Pattern allows for a clean implementation of this flexibility."
   ]
  },
  {
   "cell_type": "code",
   "execution_count": 1,
   "metadata": {},
   "outputs": [
    {
     "name": "stdout",
     "output_type": "stream",
     "text": [
      "Starting deployment for MyApp...\n",
      "[Rolling Deployment] Deploying MyApp in stages.\n",
      "Deployment for MyApp completed.\n",
      "\n",
      "Starting deployment for MyApp...\n",
      "[Blue-Green Deployment] Swapping traffic to the new version of MyApp.\n",
      "Deployment for MyApp completed.\n",
      "\n",
      "Starting deployment for MyApp...\n",
      "[Canary Deployment] Gradually deploying MyApp to a subset of users.\n",
      "Deployment for MyApp completed.\n",
      "\n"
     ]
    }
   ],
   "source": [
    "from typing import Protocol\n",
    "\n",
    "# Strategy interface\n",
    "class DeploymentStrategy(Protocol):\n",
    "    def deploy(self, app_name: str) -> None:\n",
    "        ...\n",
    "\n",
    "# Concrete strategies\n",
    "class RollingDeployment:\n",
    "    def deploy(self, app_name: str) -> None:\n",
    "        print(f\"[Rolling Deployment] Deploying {app_name} in stages.\")\n",
    "\n",
    "class BlueGreenDeployment:\n",
    "    def deploy(self, app_name: str) -> None:\n",
    "        print(f\"[Blue-Green Deployment] Swapping traffic to the new version of {app_name}.\")\n",
    "\n",
    "class CanaryDeployment:\n",
    "    def deploy(self, app_name: str) -> None:\n",
    "        print(f\"[Canary Deployment] Gradually deploying {app_name} to a subset of users.\")\n",
    "\n",
    "# Context class\n",
    "class DeploymentPipeline:\n",
    "    def __init__(self, strategy: DeploymentStrategy) -> None:\n",
    "        self._strategy = strategy\n",
    "\n",
    "    def set_strategy(self, strategy: DeploymentStrategy) -> None:\n",
    "        self._strategy = strategy\n",
    "\n",
    "    def deploy_app(self, app_name: str) -> None:\n",
    "        print(f\"Starting deployment for {app_name}...\")\n",
    "        self._strategy.deploy(app_name)\n",
    "        print(f\"Deployment for {app_name} completed.\\n\")\n",
    "\n",
    "# Example usage\n",
    "if __name__ == \"__main__\":\n",
    "    # Create specific strategies\n",
    "    rolling = RollingDeployment()\n",
    "    blue_green = BlueGreenDeployment()\n",
    "    canary = CanaryDeployment()\n",
    "\n",
    "    # Set up deployment pipeline with initial strategy\n",
    "    pipeline = DeploymentPipeline(strategy=rolling)\n",
    "\n",
    "    # Deploy with rolling strategy\n",
    "    pipeline.deploy_app(\"MyApp\")\n",
    "\n",
    "    # Switch to blue-green strategy\n",
    "    pipeline.set_strategy(blue_green)\n",
    "    pipeline.deploy_app(\"MyApp\")\n",
    "\n",
    "    # Switch to canary strategy\n",
    "    pipeline.set_strategy(canary)\n",
    "    pipeline.deploy_app(\"MyApp\")\n"
   ]
  }
 ],
 "metadata": {
  "kernelspec": {
   "display_name": ".venv",
   "language": "python",
   "name": "python3"
  },
  "language_info": {
   "codemirror_mode": {
    "name": "ipython",
    "version": 3
   },
   "file_extension": ".py",
   "mimetype": "text/x-python",
   "name": "python",
   "nbconvert_exporter": "python",
   "pygments_lexer": "ipython3",
   "version": "3.12.3"
  }
 },
 "nbformat": 4,
 "nbformat_minor": 2
}
