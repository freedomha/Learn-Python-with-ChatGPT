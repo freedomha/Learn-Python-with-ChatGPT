{
 "cells": [
  {
   "cell_type": "markdown",
   "metadata": {},
   "source": [
    "Adapter Pattern\n",
    "Allows incompatible interfaces to work together."
   ]
  },
  {
   "cell_type": "code",
   "execution_count": null,
   "metadata": {},
   "outputs": [],
   "source": [
    "class EuropeanSocket:\n",
    "    def voltage(self):\n",
    "        return \"220V\"\n",
    "\n",
    "class USASocketAdapter:\n",
    "    def __init__(self, european_socket):\n",
    "        self.european_socket = european_socket\n",
    "\n",
    "    def voltage(self):\n",
    "        return \"110V (converted from \" + self.european_socket.voltage() + \")\"\n",
    "\n",
    "# Example usage:\n",
    "euro_socket = EuropeanSocket()\n",
    "adapter = USASocketAdapter(euro_socket)\n",
    "print(adapter.voltage())  # Output: 110V (converted from 220V)\n"
   ]
  },
  {
   "cell_type": "markdown",
   "metadata": {},
   "source": [
    "## File Reader Adapter\n",
    "Imagine you have a system that can only read CSV files, but you need to integrate it with a JSON file reading system. Instead of modifying the entire codebase to support JSON, you can create an adapter to read JSON files in the same way the system handles CSV files."
   ]
  },
  {
   "cell_type": "code",
   "execution_count": null,
   "metadata": {},
   "outputs": [],
   "source": [
    "import json\n",
    "import csv\n",
    "\n",
    "class CsvReader:\n",
    "    def read(self, file_path):\n",
    "        with open(file_path, mode='r') as file:\n",
    "            return list(csv.reader(file))\n",
    "\n",
    "class JsonReader:\n",
    "    def read(self, file_path):\n",
    "        with open(file_path, mode='r') as file:\n",
    "            return json.load(file)\n",
    "\n",
    "class FileReaderAdapter:\n",
    "    def __init__(self, reader, file_type):\n",
    "        self.reader = reader\n",
    "        self.file_type = file_type\n",
    "\n",
    "    def read(self, file_path):\n",
    "        if self.file_type == 'csv':\n",
    "            return self.reader.read(file_path)\n",
    "        elif self.file_type == 'json':\n",
    "            return self.reader.read(file_path)\n",
    "        else:\n",
    "            raise ValueError(\"Unsupported file type\")\n",
    "\n",
    "# Usage\n",
    "csv_reader = CsvReader()\n",
    "json_reader = JsonReader()\n",
    "\n",
    "csv_adapter = FileReaderAdapter(csv_reader, 'csv')\n",
    "json_adapter = FileReaderAdapter(json_reader, 'json')\n",
    "\n",
    "csv_data = csv_adapter.read('data.csv')\n",
    "json_data = json_adapter.read('data.json')\n",
    "\n",
    "print(csv_data)\n",
    "print(json_data)\n"
   ]
  },
  {
   "cell_type": "markdown",
   "metadata": {},
   "source": [
    "Payment Gateway Adapter\n",
    "Different payment gateways like PayPal and Stripe often have different APIs. Using the Adapter Pattern, you can unify the API interface for processing payments without modifying the existing system."
   ]
  },
  {
   "cell_type": "code",
   "execution_count": 1,
   "metadata": {},
   "outputs": [
    {
     "name": "stdout",
     "output_type": "stream",
     "text": [
      "Processing PayPal payment of $100\n",
      "Processing Stripe payment of $200\n"
     ]
    }
   ],
   "source": [
    "class PayPalPayment:\n",
    "    def process_paypal_payment(self, amount):\n",
    "        print(f\"Processing PayPal payment of ${amount}\")\n",
    "\n",
    "class StripePayment:\n",
    "    def process_stripe_payment(self, amount):\n",
    "        print(f\"Processing Stripe payment of ${amount}\")\n",
    "\n",
    "class PaymentAdapter:\n",
    "    def __init__(self, gateway, gateway_type):\n",
    "        self.gateway = gateway\n",
    "        self.gateway_type = gateway_type\n",
    "\n",
    "    def process_payment(self, amount):\n",
    "        if self.gateway_type == 'paypal':\n",
    "            self.gateway.process_paypal_payment(amount)\n",
    "        elif self.gateway_type == 'stripe':\n",
    "            self.gateway.process_stripe_payment(amount)\n",
    "        else:\n",
    "            raise ValueError(\"Unsupported payment gateway\")\n",
    "\n",
    "# Usage\n",
    "paypal_gateway = PayPalPayment()\n",
    "stripe_gateway = StripePayment()\n",
    "\n",
    "paypal_adapter = PaymentAdapter(paypal_gateway, 'paypal')\n",
    "stripe_adapter = PaymentAdapter(stripe_gateway, 'stripe')\n",
    "\n",
    "paypal_adapter.process_payment(100)\n",
    "stripe_adapter.process_payment(200)\n"
   ]
  },
  {
   "cell_type": "markdown",
   "metadata": {},
   "source": [
    "## Logging System Adapter\n",
    "If you have multiple logging systems (e.g., logging to a file and sending logs to a remote server), you can use an adapter to unify the logging interface."
   ]
  },
  {
   "cell_type": "code",
   "execution_count": 3,
   "metadata": {},
   "outputs": [
    {
     "name": "stdout",
     "output_type": "stream",
     "text": [
      "[CloudWatch] System started\n",
      "[Splunk] System started\n",
      "[ElasticSearch] System started\n"
     ]
    }
   ],
   "source": [
    "class CloudWatchLogger:\n",
    "    def log_to_cloudwatch(self, message):\n",
    "        print(f\"[CloudWatch] {message}\")\n",
    "\n",
    "\n",
    "class SplunkLogger:\n",
    "    def log_to_splunk(self, message):\n",
    "        print(f\"[Splunk] {message}\")\n",
    "\n",
    "\n",
    "class ElasticSearchLogger:\n",
    "    def log_to_elasticsearch(self, message):\n",
    "        print(f\"[ElasticSearch] {message}\")\n",
    "\n",
    "\n",
    "# Adapter\n",
    "class LoggerAdapter:\n",
    "    def __init__(self, logger):\n",
    "        self.logger = logger\n",
    "\n",
    "    def log(self, message):\n",
    "        if isinstance(self.logger, CloudWatchLogger):\n",
    "            self.logger.log_to_cloudwatch(message)\n",
    "        elif isinstance(self.logger, SplunkLogger):\n",
    "            self.logger.log_to_splunk(message)\n",
    "        elif isinstance(self.logger, ElasticSearchLogger):\n",
    "            self.logger.log_to_elasticsearch(message)\n",
    "\n",
    "\n",
    "# Usage\n",
    "loggers = [\n",
    "    LoggerAdapter(CloudWatchLogger()),\n",
    "    LoggerAdapter(SplunkLogger()),\n",
    "    LoggerAdapter(ElasticSearchLogger())\n",
    "]\n",
    "\n",
    "for logger in loggers:\n",
    "    logger.log(\"System started\")\n",
    "\n"
   ]
  },
  {
   "cell_type": "markdown",
   "metadata": {},
   "source": [
    "## Adapter for CI/CD Pipeline Tools\n",
    "In a DevOps pipeline, different CI/CD tools like Jenkins, GitHub Actions, or GitLab CI might need to be integrated. An adapter can standardize their interface for triggering builds."
   ]
  },
  {
   "cell_type": "code",
   "execution_count": 4,
   "metadata": {},
   "outputs": [
    {
     "name": "stdout",
     "output_type": "stream",
     "text": [
      "Triggering Jenkins build for job: build-and-deploy\n",
      "Triggering GitHub Actions workflow: build-and-deploy\n",
      "Triggering GitLab pipeline: build-and-deploy\n"
     ]
    }
   ],
   "source": [
    "class JenkinsCI:\n",
    "    def trigger_jenkins_build(self, job_name):\n",
    "        print(f\"Triggering Jenkins build for job: {job_name}\")\n",
    "\n",
    "\n",
    "class GitHubActionsCI:\n",
    "    def trigger_github_workflow(self, workflow_name):\n",
    "        print(f\"Triggering GitHub Actions workflow: {workflow_name}\")\n",
    "\n",
    "\n",
    "class GitLabCICI:\n",
    "    def trigger_gitlab_pipeline(self, pipeline_name):\n",
    "        print(f\"Triggering GitLab pipeline: {pipeline_name}\")\n",
    "\n",
    "\n",
    "# Adapter\n",
    "class CIAdapter:\n",
    "    def __init__(self, ci_tool):\n",
    "        self.ci_tool = ci_tool\n",
    "\n",
    "    def trigger_build(self, name):\n",
    "        if isinstance(self.ci_tool, JenkinsCI):\n",
    "            self.ci_tool.trigger_jenkins_build(name)\n",
    "        elif isinstance(self.ci_tool, GitHubActionsCI):\n",
    "            self.ci_tool.trigger_github_workflow(name)\n",
    "        elif isinstance(self.ci_tool, GitLabCICI):\n",
    "            self.ci_tool.trigger_gitlab_pipeline(name)\n",
    "\n",
    "\n",
    "# Usage\n",
    "ci_tools = [\n",
    "    CIAdapter(JenkinsCI()),\n",
    "    CIAdapter(GitHubActionsCI()),\n",
    "    CIAdapter(GitLabCICI())\n",
    "]\n",
    "\n",
    "for ci_tool in ci_tools:\n",
    "    ci_tool.trigger_build(\"build-and-deploy\")\n"
   ]
  }
 ],
 "metadata": {
  "kernelspec": {
   "display_name": ".venv",
   "language": "python",
   "name": "python3"
  },
  "language_info": {
   "codemirror_mode": {
    "name": "ipython",
    "version": 3
   },
   "file_extension": ".py",
   "mimetype": "text/x-python",
   "name": "python",
   "nbconvert_exporter": "python",
   "pygments_lexer": "ipython3",
   "version": "3.12.3"
  }
 },
 "nbformat": 4,
 "nbformat_minor": 2
}
