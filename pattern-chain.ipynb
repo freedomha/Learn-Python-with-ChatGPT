{
 "cells": [
  {
   "cell_type": "markdown",
   "metadata": {},
   "source": [
    "Chain of Responsibility\n",
    "Passes a request along a chain of handlers until it is processed."
   ]
  },
  {
   "cell_type": "code",
   "execution_count": 3,
   "metadata": {},
   "outputs": [
    {
     "name": "stdout",
     "output_type": "stream",
     "text": [
      "Handled by B\n"
     ]
    }
   ],
   "source": [
    "class Handler:\n",
    "    def __init__(self, successor=None):\n",
    "        self.successor = successor\n",
    "\n",
    "    def handle(self, request):\n",
    "        if self.successor:\n",
    "            return self.successor.handle(request)\n",
    "\n",
    "class ConcreteHandlerA(Handler):\n",
    "    def handle(self, request):\n",
    "        if request == \"A\":\n",
    "            return \"Handled by A\"\n",
    "        return super().handle(request)\n",
    "\n",
    "class ConcreteHandlerB(Handler):\n",
    "    def handle(self, request):\n",
    "        if request == \"B\":\n",
    "            return \"Handled by B\"\n",
    "        return super().handle(request)\n",
    "\n",
    "# Example usage:\n",
    "handler_chain = ConcreteHandlerA(ConcreteHandlerB())\n",
    "print(handler_chain.handle(\"B\"))  # Output: Handled by B\n"
   ]
  }
 ],
 "metadata": {
  "kernelspec": {
   "display_name": ".venv",
   "language": "python",
   "name": "python3"
  },
  "language_info": {
   "codemirror_mode": {
    "name": "ipython",
    "version": 3
   },
   "file_extension": ".py",
   "mimetype": "text/x-python",
   "name": "python",
   "nbconvert_exporter": "python",
   "pygments_lexer": "ipython3",
   "version": "3.12.3"
  }
 },
 "nbformat": 4,
 "nbformat_minor": 2
}
