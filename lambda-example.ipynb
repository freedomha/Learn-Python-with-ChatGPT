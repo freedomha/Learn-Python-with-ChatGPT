{
 "cells": [
  {
   "cell_type": "markdown",
   "metadata": {},
   "source": [
    "## Scenario: Sorting Products by Discount\n",
    "Suppose you manage a shopping platform where each product is represented as a dictionary. You want to sort products based on their discount percentage and filter products above a specific discount threshold."
   ]
  },
  {
   "cell_type": "code",
   "execution_count": 1,
   "metadata": {},
   "outputs": [
    {
     "name": "stdout",
     "output_type": "stream",
     "text": [
      "Sorted by Discount (High to Low):\n",
      "{'name': 'Headphones', 'price': 100, 'discount': 25}\n",
      "{'name': 'Smartphone', 'price': 800, 'discount': 20}\n",
      "{'name': 'Laptop', 'price': 1200, 'discount': 15}\n",
      "{'name': 'Tablet', 'price': 400, 'discount': 10}\n",
      "\n",
      "Filtered (Discount >= 20%):\n",
      "{'name': 'Smartphone', 'price': 800, 'discount': 20}\n",
      "{'name': 'Headphones', 'price': 100, 'discount': 25}\n"
     ]
    }
   ],
   "source": [
    "# List of products\n",
    "products = [\n",
    "    {\"name\": \"Laptop\", \"price\": 1200, \"discount\": 15},\n",
    "    {\"name\": \"Smartphone\", \"price\": 800, \"discount\": 20},\n",
    "    {\"name\": \"Tablet\", \"price\": 400, \"discount\": 10},\n",
    "    {\"name\": \"Headphones\", \"price\": 100, \"discount\": 25},\n",
    "]\n",
    "\n",
    "# Sort products by discount percentage\n",
    "sorted_products = sorted(products, key=lambda x: x[\"discount\"], reverse=True)\n",
    "\n",
    "# Filter products with a discount of 20% or more\n",
    "filtered_products = list(filter(lambda x: x[\"discount\"] >= 20, products))\n",
    "\n",
    "# Display results\n",
    "print(\"Sorted by Discount (High to Low):\")\n",
    "for product in sorted_products:\n",
    "    print(product)\n",
    "\n",
    "print(\"\\nFiltered (Discount >= 20%):\")\n",
    "for product in filtered_products:\n",
    "    print(product)\n"
   ]
  },
  {
   "cell_type": "markdown",
   "metadata": {},
   "source": [
    "## Sorting Employees by Multiple Criteria\n",
    "You manage employee data and want to sort employees first by their department and then by their salary."
   ]
  },
  {
   "cell_type": "code",
   "execution_count": 2,
   "metadata": {},
   "outputs": [
    {
     "name": "stdout",
     "output_type": "stream",
     "text": [
      "Sorted Employees:\n",
      "{'name': 'Alice', 'department': 'HR', 'salary': 50000}\n",
      "{'name': 'Diana', 'department': 'HR', 'salary': 52000}\n",
      "{'name': 'Charlie', 'department': 'IT', 'salary': 55000}\n",
      "{'name': 'Bob', 'department': 'IT', 'salary': 60000}\n"
     ]
    }
   ],
   "source": [
    "employees = [\n",
    "    {\"name\": \"Alice\", \"department\": \"HR\", \"salary\": 50000},\n",
    "    {\"name\": \"Bob\", \"department\": \"IT\", \"salary\": 60000},\n",
    "    {\"name\": \"Charlie\", \"department\": \"IT\", \"salary\": 55000},\n",
    "    {\"name\": \"Diana\", \"department\": \"HR\", \"salary\": 52000},\n",
    "]\n",
    "\n",
    "# Sort by department, then by salary\n",
    "sorted_employees = sorted(employees, key=lambda x: (x[\"department\"], x[\"salary\"]))\n",
    "\n",
    "print(\"Sorted Employees:\")\n",
    "for emp in sorted_employees:\n",
    "    print(emp)\n"
   ]
  },
  {
   "cell_type": "markdown",
   "metadata": {},
   "source": [
    "## Filter Students with Specific Grades\n",
    "You have a list of students and need to filter those who scored above a certain grade threshold."
   ]
  },
  {
   "cell_type": "code",
   "execution_count": 3,
   "metadata": {},
   "outputs": [
    {
     "name": "stdout",
     "output_type": "stream",
     "text": [
      "Top Students:\n",
      "{'name': 'John', 'grade': 85}\n",
      "{'name': 'Emma', 'grade': 92}\n",
      "{'name': 'James', 'grade': 89}\n"
     ]
    }
   ],
   "source": [
    "students = [\n",
    "    {\"name\": \"John\", \"grade\": 85},\n",
    "    {\"name\": \"Emma\", \"grade\": 92},\n",
    "    {\"name\": \"Sophia\", \"grade\": 78},\n",
    "    {\"name\": \"James\", \"grade\": 89},\n",
    "]\n",
    "\n",
    "# Filter students with grades above 80\n",
    "top_students = list(filter(lambda x: x[\"grade\"] > 80, students))\n",
    "\n",
    "print(\"Top Students:\")\n",
    "for student in top_students:\n",
    "    print(student)\n"
   ]
  },
  {
   "cell_type": "markdown",
   "metadata": {},
   "source": [
    "## Real-Time Temperature Conversion\n",
    "A weather app needs to display temperatures in both Celsius and Fahrenheit. Lambda is used for quick conversions."
   ]
  },
  {
   "cell_type": "code",
   "execution_count": 4,
   "metadata": {},
   "outputs": [
    {
     "name": "stdout",
     "output_type": "stream",
     "text": [
      "Temperatures in Fahrenheit: [32.0, 68.0, 86.0, 104.0]\n"
     ]
    }
   ],
   "source": [
    "temperatures_c = [0, 20, 30, 40]\n",
    "\n",
    "# Convert Celsius to Fahrenheit\n",
    "temperatures_f = list(map(lambda c: c * 9 / 5 + 32, temperatures_c))\n",
    "\n",
    "print(\"Temperatures in Fahrenheit:\", temperatures_f)\n"
   ]
  },
  {
   "cell_type": "markdown",
   "metadata": {},
   "source": [
    "## Dynamic Tax Calculation for a Store\n",
    "An online store needs to calculate taxes dynamically based on a region's tax rate."
   ]
  },
  {
   "cell_type": "code",
   "execution_count": 5,
   "metadata": {},
   "outputs": [
    {
     "name": "stdout",
     "output_type": "stream",
     "text": [
      "Products with Tax:\n",
      "{'name': 'Book', 'price_with_tax': 10.8}\n",
      "{'name': 'Pen', 'price_with_tax': 2.16}\n",
      "{'name': 'Notebook', 'price_with_tax': 5.4}\n"
     ]
    }
   ],
   "source": [
    "products = [\n",
    "    {\"name\": \"Book\", \"price\": 10},\n",
    "    {\"name\": \"Pen\", \"price\": 2},\n",
    "    {\"name\": \"Notebook\", \"price\": 5},\n",
    "]\n",
    "\n",
    "# Assume tax rate is 8%\n",
    "tax_rate = 0.08\n",
    "with_tax = list(map(lambda x: {\"name\": x[\"name\"], \"price_with_tax\": x[\"price\"] * (1 + tax_rate)}, products))\n",
    "\n",
    "print(\"Products with Tax:\")\n",
    "for product in with_tax:\n",
    "    print(product)\n"
   ]
  },
  {
   "cell_type": "markdown",
   "metadata": {},
   "source": [
    "## Group Data by Key\n",
    "You want to group customer orders by a specific attribute, such as city."
   ]
  },
  {
   "cell_type": "code",
   "execution_count": 6,
   "metadata": {},
   "outputs": [
    {
     "name": "stdout",
     "output_type": "stream",
     "text": [
      "Grouped Orders:\n",
      "Chicago [{'order_id': 4, 'city': 'Chicago'}]\n",
      "Los Angeles [{'order_id': 2, 'city': 'Los Angeles'}]\n",
      "New York [{'order_id': 1, 'city': 'New York'}, {'order_id': 3, 'city': 'New York'}]\n"
     ]
    }
   ],
   "source": [
    "from itertools import groupby\n",
    "\n",
    "orders = [\n",
    "    {\"order_id\": 1, \"city\": \"New York\"},\n",
    "    {\"order_id\": 2, \"city\": \"Los Angeles\"},\n",
    "    {\"order_id\": 3, \"city\": \"New York\"},\n",
    "    {\"order_id\": 4, \"city\": \"Chicago\"},\n",
    "]\n",
    "\n",
    "# Group orders by city\n",
    "orders.sort(key=lambda x: x[\"city\"])  # groupby requires sorted data\n",
    "grouped = {k: list(v) for k, v in groupby(orders, key=lambda x: x[\"city\"])}\n",
    "\n",
    "print(\"Grouped Orders:\")\n",
    "for city, group in grouped.items():\n",
    "    print(city, group)\n"
   ]
  }
 ],
 "metadata": {
  "kernelspec": {
   "display_name": ".venv",
   "language": "python",
   "name": "python3"
  },
  "language_info": {
   "codemirror_mode": {
    "name": "ipython",
    "version": 3
   },
   "file_extension": ".py",
   "mimetype": "text/x-python",
   "name": "python",
   "nbconvert_exporter": "python",
   "pygments_lexer": "ipython3",
   "version": "3.12.3"
  }
 },
 "nbformat": 4,
 "nbformat_minor": 2
}
