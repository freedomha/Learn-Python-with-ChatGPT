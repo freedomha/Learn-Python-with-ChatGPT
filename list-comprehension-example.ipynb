{
 "cells": [
  {
   "cell_type": "markdown",
   "metadata": {},
   "source": [
    "Extracting Usernames from Emails\n",
    "Extract usernames (the part before @) from a list of email addresses."
   ]
  },
  {
   "cell_type": "code",
   "execution_count": 2,
   "metadata": {},
   "outputs": [
    {
     "name": "stdout",
     "output_type": "stream",
     "text": [
      "Usernames: ['user1', 'user2', 'admin']\n"
     ]
    }
   ],
   "source": [
    "emails = [\"user1@example.com\", \"user2@gmail.com\", \"admin@domain.com\"]\n",
    "\n",
    "# Extract usernames\n",
    "usernames = [email.split(\"@\")[0] for email in emails]\n",
    "\n",
    "print(\"Usernames:\", usernames)\n",
    "# Output: ['user1', 'user2', 'admin']\n"
   ]
  },
  {
   "cell_type": "markdown",
   "metadata": {},
   "source": [
    "Generating a Report of Odd/Even Numbers\n",
    "A system labels numbers in a list as \"Odd\" or \"Even.\""
   ]
  },
  {
   "cell_type": "code",
   "execution_count": 3,
   "metadata": {},
   "outputs": [
    {
     "name": "stdout",
     "output_type": "stream",
     "text": [
      "Labels: ['Odd', 'Even', 'Odd', 'Even', 'Odd']\n"
     ]
    }
   ],
   "source": [
    "numbers = [1, 2, 3, 4, 5]\n",
    "\n",
    "# Label numbers as Odd or Even\n",
    "labels = [\"Odd\" if n % 2 != 0 else \"Even\" for n in numbers]\n",
    "\n",
    "print(\"Labels:\", labels)\n",
    "# Output: ['Odd', 'Even', 'Odd', 'Even', 'Odd']\n"
   ]
  },
  {
   "cell_type": "markdown",
   "metadata": {},
   "source": [
    "Flattening a Nested List\n",
    "A data processing system needs to flatten hierarchical data."
   ]
  },
  {
   "cell_type": "code",
   "execution_count": 4,
   "metadata": {},
   "outputs": [
    {
     "name": "stdout",
     "output_type": "stream",
     "text": [
      "Flat List: [1, 2, 3, 4, 5, 6, 7, 8]\n"
     ]
    }
   ],
   "source": [
    "nested_list = [[1, 2, 3], [4, 5], [6, 7, 8]]\n",
    "\n",
    "# Flatten the nested list\n",
    "flat_list = [item for sublist in nested_list for item in sublist]\n",
    "\n",
    "print(\"Flat List:\", flat_list)\n",
    "# Output: [1, 2, 3, 4, 5, 6, 7, 8]\n"
   ]
  },
  {
   "cell_type": "markdown",
   "metadata": {},
   "source": [
    "Calculating Student Grades\n",
    "Convert raw scores into letter grades."
   ]
  },
  {
   "cell_type": "code",
   "execution_count": 5,
   "metadata": {},
   "outputs": [
    {
     "name": "stdout",
     "output_type": "stream",
     "text": [
      "Grades: ['B', 'A', 'C', 'A', 'D']\n"
     ]
    }
   ],
   "source": [
    "scores = [85, 92, 78, 90, 68]\n",
    "\n",
    "# Map scores to grades\n",
    "grades = [\"A\" if score >= 90 else \"B\" if score >= 80 else \"C\" if score >= 70 else \"D\" for score in scores]\n",
    "\n",
    "print(\"Grades:\", grades)\n",
    "# Output: ['B', 'A', 'C', 'A', 'D']\n"
   ]
  },
  {
   "cell_type": "markdown",
   "metadata": {},
   "source": [
    "Generating User IDs\n",
    "Create a list of user IDs based on a pattern.\n"
   ]
  },
  {
   "cell_type": "code",
   "execution_count": 6,
   "metadata": {},
   "outputs": [
    {
     "name": "stdout",
     "output_type": "stream",
     "text": [
      "User IDs: ['user_alice', 'user_bob', 'user_charlie']\n"
     ]
    }
   ],
   "source": [
    "users = [\"Alice\", \"Bob\", \"Charlie\"]\n",
    "\n",
    "# Generate user IDs\n",
    "user_ids = [f\"user_{name.lower()}\" for name in users]\n",
    "\n",
    "print(\"User IDs:\", user_ids)\n",
    "# Output: ['user_alice', 'user_bob', 'user_charlie']\n"
   ]
  }
 ],
 "metadata": {
  "kernelspec": {
   "display_name": ".venv",
   "language": "python",
   "name": "python3"
  },
  "language_info": {
   "codemirror_mode": {
    "name": "ipython",
    "version": 3
   },
   "file_extension": ".py",
   "mimetype": "text/x-python",
   "name": "python",
   "nbconvert_exporter": "python",
   "pygments_lexer": "ipython3",
   "version": "3.12.3"
  }
 },
 "nbformat": 4,
 "nbformat_minor": 2
}
