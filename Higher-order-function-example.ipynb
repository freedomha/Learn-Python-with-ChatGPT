{
 "cells": [
  {
   "cell_type": "markdown",
   "metadata": {},
   "source": [
    "Here's an example of using a higher-order function in a real-world application scenario: processing data for a shopping cart system.\n",
    "\n",
    "Scenario: Shopping Cart Discounts\n",
    "We want to compute the total price of items in a shopping cart, applying various discount rules based on the type of promotion.\n",
    "\n",
    "Higher-Order Function Example\n",
    "A higher-order function apply_discount takes a discount function as an argument, allowing flexibility for different discount rules."
   ]
  },
  {
   "cell_type": "code",
   "execution_count": 1,
   "metadata": {},
   "outputs": [
    {
     "name": "stdout",
     "output_type": "stream",
     "text": [
      "Total with no discount: $1660.00\n",
      "Total with 15% discount: $1411.00\n",
      "Total with bulk discount: $1510.00\n"
     ]
    }
   ],
   "source": [
    "# Higher-order function\n",
    "def apply_discount(cart, discount_func):\n",
    "    \"\"\"Applies a discount function to a cart.\"\"\"\n",
    "    return sum(discount_func(item) for item in cart)\n",
    "\n",
    "# Example discount functions\n",
    "def no_discount(item):\n",
    "    return item['price'] * item['quantity']\n",
    "\n",
    "def percentage_discount(item, percent=10):\n",
    "    return (item['price'] * (1 - percent / 100)) * item['quantity']\n",
    "\n",
    "def bulk_discount(item, threshold=5, bulk_rate=0.8):\n",
    "    if item['quantity'] > threshold:\n",
    "        return (item['price'] * bulk_rate) * item['quantity']\n",
    "    return item['price'] * item['quantity']\n",
    "\n",
    "# Shopping cart data\n",
    "cart = [\n",
    "    {'name': 'Laptop', 'price': 1000, 'quantity': 1},\n",
    "    {'name': 'Mouse', 'price': 50, 'quantity': 10},\n",
    "    {'name': 'Keyboard', 'price': 80, 'quantity': 2},\n",
    "]\n",
    "\n",
    "# Using the higher-order function with different discount rules\n",
    "total_no_discount = apply_discount(cart, no_discount)\n",
    "total_percentage_discount = apply_discount(cart, lambda item: percentage_discount(item, percent=15))\n",
    "total_bulk_discount = apply_discount(cart, lambda item: bulk_discount(item, threshold=5, bulk_rate=0.7))\n",
    "\n",
    "print(f\"Total with no discount: ${total_no_discount:.2f}\")\n",
    "print(f\"Total with 15% discount: ${total_percentage_discount:.2f}\")\n",
    "print(f\"Total with bulk discount: ${total_bulk_discount:.2f}\")\n"
   ]
  },
  {
   "cell_type": "markdown",
   "metadata": {},
   "source": [
    "Explanation\n",
    "Higher-Order Function (apply_discount):\n",
    "\n",
    "Takes a function (discount_func) as input to calculate the discount for each item.\n",
    "Provides flexibility to use different discount strategies without modifying the base function.\n",
    "Discount Strategies:\n",
    "\n",
    "No Discount: Full price.\n",
    "Percentage Discount: Applies a percentage-based reduction.\n",
    "Bulk Discount: Reduces price for items exceeding a quantity threshold.\n",
    "Lambda Functions:\n",
    "\n",
    "Allow parameterized discount functions to be passed into apply_discount.\n",
    "This pattern is powerful in real-world applications like e-commerce, where dynamic behavior can be implemented with higher-order functions."
   ]
  },
  {
   "cell_type": "markdown",
   "metadata": {},
   "source": [
    "## rewrite without lambda\n",
    "\n"
   ]
  },
  {
   "cell_type": "code",
   "execution_count": 2,
   "metadata": {},
   "outputs": [
    {
     "name": "stdout",
     "output_type": "stream",
     "text": [
      "Total with 15% discount: $1411.00\n"
     ]
    }
   ],
   "source": [
    "# Discount logic\n",
    "def percentage_discount(item, percent=10):\n",
    "    return (item['price'] * (1 - percent / 100)) * item['quantity']\n",
    "\n",
    "# Custom discount function for 15%\n",
    "def percentage_discount_15(item):\n",
    "    return percentage_discount(item, percent=15)\n",
    "\n",
    "# Higher-order function\n",
    "def apply_discount(cart, discount_func):\n",
    "    return sum(discount_func(item) for item in cart)\n",
    "\n",
    "# Shopping cart data\n",
    "cart = [\n",
    "    {'name': 'Laptop', 'price': 1000, 'quantity': 1},\n",
    "    {'name': 'Mouse', 'price': 50, 'quantity': 10},\n",
    "    {'name': 'Keyboard', 'price': 80, 'quantity': 2},\n",
    "]\n",
    "\n",
    "# Apply 15% discount using the custom function\n",
    "total_percentage_discount = apply_discount(cart, percentage_discount_15)\n",
    "\n",
    "print(f\"Total with 15% discount: ${total_percentage_discount:.2f}\")\n",
    "\n"
   ]
  },
  {
   "cell_type": "markdown",
   "metadata": {},
   "source": [
    "## can I write like this:\n",
    "total_percentage_discount = apply_discount(cart, percentage_discount(item, percent=15))"
   ]
  },
  {
   "cell_type": "markdown",
   "metadata": {},
   "source": [
    "No, you cannot write it like this:\n",
    "\n",
    "This is because apply_discount expects a function (discount_func) as its second argument, not the result of calling a function (percentage_discount(item, percent=15)).\n",
    "\n",
    "### Key Difference:\n",
    "percentage_discount_15 or lambda item: percentage_discount(item, percent=15) is a function reference that gets passed to apply_discount and is invoked later for each item in the cart.\n",
    "percentage_discount(item, percent=15) is a function call that returns a single value immediately, which is not what apply_discount expects"
   ]
  }
 ],
 "metadata": {
  "kernelspec": {
   "display_name": ".venv",
   "language": "python",
   "name": "python3"
  },
  "language_info": {
   "codemirror_mode": {
    "name": "ipython",
    "version": 3
   },
   "file_extension": ".py",
   "mimetype": "text/x-python",
   "name": "python",
   "nbconvert_exporter": "python",
   "pygments_lexer": "ipython3",
   "version": "3.12.3"
  }
 },
 "nbformat": 4,
 "nbformat_minor": 2
}
